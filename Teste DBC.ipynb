{
 "cells": [
  {
   "cell_type": "code",
   "execution_count": 1,
   "metadata": {},
   "outputs": [],
   "source": [
    "import pandas as pd\n",
    "import polars as pl\n",
    "import seaborn as sns\n",
    "import matplotlib.pyplot as plt\n",
    "import scipy.stats as stats"
   ]
  },
  {
   "cell_type": "markdown",
   "metadata": {},
   "source": [
    "# **0. Importar os dados das abas em cor verde do arquivo de Excel**"
   ]
  },
  {
   "cell_type": "code",
   "execution_count": 2,
   "metadata": {},
   "outputs": [],
   "source": [
    "df_transacoes_pl = pd.read_excel(\"Exercicio_Python_CRM .xlsx\", sheet_name=\"Transações\")\n",
    "df_produto_pl = pd.read_excel(\"Exercicio_Python_CRM .xlsx\", sheet_name=\"Produto\")\n",
    "df_lojas_pl = pd.read_excel(\"Exercicio_Python_CRM .xlsx\", sheet_name=\"Lojas\")\n",
    "df_cliente_pl = pd.read_excel(\"Exercicio_Python_CRM .xlsx\", sheet_name=\"Cliente\")\n",
    "df_teste_pl = pd.read_excel(\"Exercicio_Python_CRM .xlsx\", sheet_name=\"Teste\")"
   ]
  },
  {
   "cell_type": "markdown",
   "metadata": {},
   "source": [
    "# **1. Limpar e preparar os dados**\n",
    "    -Eliminando os possíveis espaços no início e no final de cada coluna nas diferentes tabelas\n"
   ]
  },
  {
   "cell_type": "code",
   "execution_count": 3,
   "metadata": {},
   "outputs": [
    {
     "data": {
      "text/html": [
       "<div>\n",
       "<style scoped>\n",
       "    .dataframe tbody tr th:only-of-type {\n",
       "        vertical-align: middle;\n",
       "    }\n",
       "\n",
       "    .dataframe tbody tr th {\n",
       "        vertical-align: top;\n",
       "    }\n",
       "\n",
       "    .dataframe thead th {\n",
       "        text-align: right;\n",
       "    }\n",
       "</style>\n",
       "<table border=\"1\" class=\"dataframe\">\n",
       "  <thead>\n",
       "    <tr style=\"text-align: right;\">\n",
       "      <th></th>\n",
       "      <th>ID_Trans</th>\n",
       "      <th>Data</th>\n",
       "      <th>ID_Loja</th>\n",
       "      <th>ID_Produto</th>\n",
       "      <th>ID_Cliente</th>\n",
       "      <th>UnidadesVendidas</th>\n",
       "      <th>ValorTotal</th>\n",
       "      <th>Promo</th>\n",
       "    </tr>\n",
       "  </thead>\n",
       "  <tbody>\n",
       "    <tr>\n",
       "      <th>0</th>\n",
       "      <td>1</td>\n",
       "      <td>2022-01-01</td>\n",
       "      <td>7</td>\n",
       "      <td>123005</td>\n",
       "      <td>90023</td>\n",
       "      <td>2</td>\n",
       "      <td>99.98</td>\n",
       "      <td>0.0</td>\n",
       "    </tr>\n",
       "    <tr>\n",
       "      <th>1</th>\n",
       "      <td>2</td>\n",
       "      <td>2022-01-01</td>\n",
       "      <td>9</td>\n",
       "      <td>123004</td>\n",
       "      <td>90092</td>\n",
       "      <td>1</td>\n",
       "      <td>35.99</td>\n",
       "      <td>0.0</td>\n",
       "    </tr>\n",
       "    <tr>\n",
       "      <th>2</th>\n",
       "      <td>3</td>\n",
       "      <td>2022-01-01</td>\n",
       "      <td>1</td>\n",
       "      <td>123001</td>\n",
       "      <td>90027</td>\n",
       "      <td>2</td>\n",
       "      <td>51.98</td>\n",
       "      <td>0.0</td>\n",
       "    </tr>\n",
       "    <tr>\n",
       "      <th>3</th>\n",
       "      <td>4</td>\n",
       "      <td>2022-01-01</td>\n",
       "      <td>3</td>\n",
       "      <td>123001</td>\n",
       "      <td>90097</td>\n",
       "      <td>2</td>\n",
       "      <td>51.98</td>\n",
       "      <td>0.0</td>\n",
       "    </tr>\n",
       "    <tr>\n",
       "      <th>4</th>\n",
       "      <td>5</td>\n",
       "      <td>2022-01-01</td>\n",
       "      <td>4</td>\n",
       "      <td>123004</td>\n",
       "      <td>90089</td>\n",
       "      <td>2</td>\n",
       "      <td>71.98</td>\n",
       "      <td>0.0</td>\n",
       "    </tr>\n",
       "  </tbody>\n",
       "</table>\n",
       "</div>"
      ],
      "text/plain": [
       "   ID_Trans       Data  ID_Loja  ID_Produto  ID_Cliente  UnidadesVendidas  \\\n",
       "0         1 2022-01-01        7      123005       90023                 2   \n",
       "1         2 2022-01-01        9      123004       90092                 1   \n",
       "2         3 2022-01-01        1      123001       90027                 2   \n",
       "3         4 2022-01-01        3      123001       90097                 2   \n",
       "4         5 2022-01-01        4      123004       90089                 2   \n",
       "\n",
       "   ValorTotal  Promo  \n",
       "0       99.98    0.0  \n",
       "1       35.99    0.0  \n",
       "2       51.98    0.0  \n",
       "3       51.98    0.0  \n",
       "4       71.98    0.0  "
      ]
     },
     "execution_count": 3,
     "metadata": {},
     "output_type": "execute_result"
    }
   ],
   "source": [
    "df_transacoes_pl.head()"
   ]
  },
  {
   "cell_type": "code",
   "execution_count": 4,
   "metadata": {},
   "outputs": [
    {
     "data": {
      "text/html": [
       "<div>\n",
       "<style scoped>\n",
       "    .dataframe tbody tr th:only-of-type {\n",
       "        vertical-align: middle;\n",
       "    }\n",
       "\n",
       "    .dataframe tbody tr th {\n",
       "        vertical-align: top;\n",
       "    }\n",
       "\n",
       "    .dataframe thead th {\n",
       "        text-align: right;\n",
       "    }\n",
       "</style>\n",
       "<table border=\"1\" class=\"dataframe\">\n",
       "  <thead>\n",
       "    <tr style=\"text-align: right;\">\n",
       "      <th></th>\n",
       "      <th>ID_Produto</th>\n",
       "      <th>Descrição Produto</th>\n",
       "      <th>Categoria</th>\n",
       "      <th>Cor</th>\n",
       "      <th>Marca</th>\n",
       "    </tr>\n",
       "  </thead>\n",
       "  <tbody>\n",
       "    <tr>\n",
       "      <th>0</th>\n",
       "      <td>123000</td>\n",
       "      <td>Bottom Azul Marca AlfaX</td>\n",
       "      <td>Bottom</td>\n",
       "      <td>Azul</td>\n",
       "      <td>AlfaX</td>\n",
       "    </tr>\n",
       "    <tr>\n",
       "      <th>1</th>\n",
       "      <td>123001</td>\n",
       "      <td>Top Cinza Marca GammaZ</td>\n",
       "      <td>Top</td>\n",
       "      <td>Cinza</td>\n",
       "      <td>GammaZ</td>\n",
       "    </tr>\n",
       "    <tr>\n",
       "      <th>2</th>\n",
       "      <td>123002</td>\n",
       "      <td>Bottom Preto Marca BetaY</td>\n",
       "      <td>Bottom</td>\n",
       "      <td>Preto</td>\n",
       "      <td>BetaY</td>\n",
       "    </tr>\n",
       "    <tr>\n",
       "      <th>3</th>\n",
       "      <td>123003</td>\n",
       "      <td>Top Marca BetaY</td>\n",
       "      <td>Top</td>\n",
       "      <td>Vermelho</td>\n",
       "      <td>BetaY</td>\n",
       "    </tr>\n",
       "    <tr>\n",
       "      <th>4</th>\n",
       "      <td>123004</td>\n",
       "      <td>Top Cinza Marca BetaY</td>\n",
       "      <td>Top</td>\n",
       "      <td>Cinza</td>\n",
       "      <td>BetaY</td>\n",
       "    </tr>\n",
       "  </tbody>\n",
       "</table>\n",
       "</div>"
      ],
      "text/plain": [
       "   ID_Produto         Descrição Produto Categoria       Cor   Marca\n",
       "0      123000   Bottom Azul Marca AlfaX    Bottom      Azul   AlfaX\n",
       "1      123001    Top Cinza Marca GammaZ       Top     Cinza  GammaZ\n",
       "2      123002  Bottom Preto Marca BetaY    Bottom     Preto   BetaY\n",
       "3      123003           Top Marca BetaY       Top  Vermelho   BetaY\n",
       "4      123004     Top Cinza Marca BetaY       Top     Cinza   BetaY"
      ]
     },
     "execution_count": 4,
     "metadata": {},
     "output_type": "execute_result"
    }
   ],
   "source": [
    "df_produto_pl.head()"
   ]
  },
  {
   "cell_type": "code",
   "execution_count": 5,
   "metadata": {},
   "outputs": [
    {
     "data": {
      "text/html": [
       "<div>\n",
       "<style scoped>\n",
       "    .dataframe tbody tr th:only-of-type {\n",
       "        vertical-align: middle;\n",
       "    }\n",
       "\n",
       "    .dataframe tbody tr th {\n",
       "        vertical-align: top;\n",
       "    }\n",
       "\n",
       "    .dataframe thead th {\n",
       "        text-align: right;\n",
       "    }\n",
       "</style>\n",
       "<table border=\"1\" class=\"dataframe\">\n",
       "  <thead>\n",
       "    <tr style=\"text-align: right;\">\n",
       "      <th></th>\n",
       "      <th>ID_Loja</th>\n",
       "      <th>UF</th>\n",
       "      <th>Regiao</th>\n",
       "    </tr>\n",
       "  </thead>\n",
       "  <tbody>\n",
       "    <tr>\n",
       "      <th>0</th>\n",
       "      <td>1</td>\n",
       "      <td>AM</td>\n",
       "      <td>NORTE</td>\n",
       "    </tr>\n",
       "    <tr>\n",
       "      <th>1</th>\n",
       "      <td>2</td>\n",
       "      <td>MG</td>\n",
       "      <td>CENTRO-OESTE</td>\n",
       "    </tr>\n",
       "    <tr>\n",
       "      <th>2</th>\n",
       "      <td>3</td>\n",
       "      <td>SP</td>\n",
       "      <td>SUDESTE</td>\n",
       "    </tr>\n",
       "    <tr>\n",
       "      <th>3</th>\n",
       "      <td>4</td>\n",
       "      <td>SP</td>\n",
       "      <td>NaN</td>\n",
       "    </tr>\n",
       "    <tr>\n",
       "      <th>4</th>\n",
       "      <td>5</td>\n",
       "      <td>SP</td>\n",
       "      <td>SUDESTE</td>\n",
       "    </tr>\n",
       "  </tbody>\n",
       "</table>\n",
       "</div>"
      ],
      "text/plain": [
       "   ID_Loja     UF        Regiao\n",
       "0        1     AM         NORTE\n",
       "1        2     MG  CENTRO-OESTE\n",
       "2        3     SP       SUDESTE\n",
       "3        4     SP           NaN\n",
       "4        5    SP        SUDESTE"
      ]
     },
     "execution_count": 5,
     "metadata": {},
     "output_type": "execute_result"
    }
   ],
   "source": [
    "df_lojas_pl.head()"
   ]
  },
  {
   "cell_type": "code",
   "execution_count": 6,
   "metadata": {},
   "outputs": [
    {
     "data": {
      "text/html": [
       "<div>\n",
       "<style scoped>\n",
       "    .dataframe tbody tr th:only-of-type {\n",
       "        vertical-align: middle;\n",
       "    }\n",
       "\n",
       "    .dataframe tbody tr th {\n",
       "        vertical-align: top;\n",
       "    }\n",
       "\n",
       "    .dataframe thead th {\n",
       "        text-align: right;\n",
       "    }\n",
       "</style>\n",
       "<table border=\"1\" class=\"dataframe\">\n",
       "  <thead>\n",
       "    <tr style=\"text-align: right;\">\n",
       "      <th></th>\n",
       "      <th>CustomerID</th>\n",
       "      <th>Genero</th>\n",
       "      <th>FaixaIdade</th>\n",
       "      <th>ClasseSocial</th>\n",
       "    </tr>\n",
       "  </thead>\n",
       "  <tbody>\n",
       "    <tr>\n",
       "      <th>0</th>\n",
       "      <td>90000</td>\n",
       "      <td>Feminino</td>\n",
       "      <td>35-45</td>\n",
       "      <td>C</td>\n",
       "    </tr>\n",
       "    <tr>\n",
       "      <th>1</th>\n",
       "      <td>90001</td>\n",
       "      <td>Feminino</td>\n",
       "      <td>45+</td>\n",
       "      <td>D</td>\n",
       "    </tr>\n",
       "    <tr>\n",
       "      <th>2</th>\n",
       "      <td>90002</td>\n",
       "      <td>Feminino</td>\n",
       "      <td>18-25</td>\n",
       "      <td>C</td>\n",
       "    </tr>\n",
       "    <tr>\n",
       "      <th>3</th>\n",
       "      <td>90003</td>\n",
       "      <td>Feminino</td>\n",
       "      <td>45+</td>\n",
       "      <td>C</td>\n",
       "    </tr>\n",
       "    <tr>\n",
       "      <th>4</th>\n",
       "      <td>90004</td>\n",
       "      <td>Feminino</td>\n",
       "      <td>35-45</td>\n",
       "      <td>C</td>\n",
       "    </tr>\n",
       "  </tbody>\n",
       "</table>\n",
       "</div>"
      ],
      "text/plain": [
       "   CustomerID    Genero FaixaIdade ClasseSocial\n",
       "0       90000  Feminino      35-45            C\n",
       "1       90001  Feminino        45+            D\n",
       "2       90002  Feminino      18-25            C\n",
       "3       90003  Feminino        45+            C\n",
       "4       90004  Feminino      35-45            C"
      ]
     },
     "execution_count": 6,
     "metadata": {},
     "output_type": "execute_result"
    }
   ],
   "source": [
    "df_cliente_pl.head()"
   ]
  },
  {
   "cell_type": "code",
   "execution_count": 7,
   "metadata": {},
   "outputs": [
    {
     "data": {
      "text/html": [
       "<div>\n",
       "<style scoped>\n",
       "    .dataframe tbody tr th:only-of-type {\n",
       "        vertical-align: middle;\n",
       "    }\n",
       "\n",
       "    .dataframe tbody tr th {\n",
       "        vertical-align: top;\n",
       "    }\n",
       "\n",
       "    .dataframe thead th {\n",
       "        text-align: right;\n",
       "    }\n",
       "</style>\n",
       "<table border=\"1\" class=\"dataframe\">\n",
       "  <thead>\n",
       "    <tr style=\"text-align: right;\">\n",
       "      <th></th>\n",
       "      <th>CustomerID</th>\n",
       "      <th>Grupo</th>\n",
       "      <th>Enviado</th>\n",
       "      <th>Recebido</th>\n",
       "      <th>Aberto</th>\n",
       "      <th>Sessao</th>\n",
       "      <th>Comprou</th>\n",
       "    </tr>\n",
       "  </thead>\n",
       "  <tbody>\n",
       "    <tr>\n",
       "      <th>0</th>\n",
       "      <td>90000</td>\n",
       "      <td>TESTE</td>\n",
       "      <td>1</td>\n",
       "      <td>1</td>\n",
       "      <td>1</td>\n",
       "      <td>1</td>\n",
       "      <td>1</td>\n",
       "    </tr>\n",
       "    <tr>\n",
       "      <th>1</th>\n",
       "      <td>90001</td>\n",
       "      <td>TESTE</td>\n",
       "      <td>1</td>\n",
       "      <td>1</td>\n",
       "      <td>0</td>\n",
       "      <td>0</td>\n",
       "      <td>0</td>\n",
       "    </tr>\n",
       "    <tr>\n",
       "      <th>2</th>\n",
       "      <td>90002</td>\n",
       "      <td>CONTROLE</td>\n",
       "      <td>1</td>\n",
       "      <td>1</td>\n",
       "      <td>0</td>\n",
       "      <td>0</td>\n",
       "      <td>0</td>\n",
       "    </tr>\n",
       "    <tr>\n",
       "      <th>3</th>\n",
       "      <td>90003</td>\n",
       "      <td>TESTE</td>\n",
       "      <td>1</td>\n",
       "      <td>1</td>\n",
       "      <td>1</td>\n",
       "      <td>1</td>\n",
       "      <td>1</td>\n",
       "    </tr>\n",
       "    <tr>\n",
       "      <th>4</th>\n",
       "      <td>90004</td>\n",
       "      <td>TESTE</td>\n",
       "      <td>1</td>\n",
       "      <td>1</td>\n",
       "      <td>1</td>\n",
       "      <td>1</td>\n",
       "      <td>1</td>\n",
       "    </tr>\n",
       "  </tbody>\n",
       "</table>\n",
       "</div>"
      ],
      "text/plain": [
       "   CustomerID     Grupo  Enviado  Recebido  Aberto  Sessao  Comprou\n",
       "0       90000     TESTE        1         1       1       1        1\n",
       "1       90001     TESTE        1         1       0       0        0\n",
       "2       90002  CONTROLE        1         1       0       0        0\n",
       "3       90003     TESTE        1         1       1       1        1\n",
       "4       90004     TESTE        1         1       1       1        1"
      ]
     },
     "execution_count": 7,
     "metadata": {},
     "output_type": "execute_result"
    }
   ],
   "source": [
    "df_teste_pl.head()"
   ]
  },
  {
   "cell_type": "code",
   "execution_count": 8,
   "metadata": {},
   "outputs": [],
   "source": [
    "# Renomeando colunas do dataset cliente e teste\n",
    "# Padronizando para realizar \"merge\" com os demais dataframes \n",
    "\n",
    "df_cliente_pl.rename(columns={\"CustomerID\": \"ID_Cliente\"}, inplace=True)\n",
    "df_teste_pl.rename(columns={\"CustomerID\": \"ID_Cliente\"}, inplace=True)"
   ]
  },
  {
   "cell_type": "code",
   "execution_count": 9,
   "metadata": {},
   "outputs": [],
   "source": [
    "# Os valores ausentes da coluna Genero foram inputados como Indefinido, tendo em vista que, podem ser clientes que escolheram não indentificar seu gênero.\n",
    "\n",
    "values = {\"Genero\": \"Indefinido\"}\n",
    "df_cliente_pl.fillna(value=values, inplace=True)"
   ]
  },
  {
   "cell_type": "code",
   "execution_count": 10,
   "metadata": {},
   "outputs": [],
   "source": [
    "# Juntando os dataframes \n",
    "\n",
    "df = pd.merge(df_transacoes_pl, df_produto_pl, how = 'inner', on = 'ID_Produto')\n",
    "df = pd.merge(df, df_lojas_pl, how = 'inner', on = 'ID_Loja')\n",
    "df = pd.merge(df, df_cliente_pl, how = 'inner', on = 'ID_Cliente')"
   ]
  },
  {
   "cell_type": "code",
   "execution_count": 11,
   "metadata": {},
   "outputs": [
    {
     "data": {
      "text/html": [
       "<div>\n",
       "<style scoped>\n",
       "    .dataframe tbody tr th:only-of-type {\n",
       "        vertical-align: middle;\n",
       "    }\n",
       "\n",
       "    .dataframe tbody tr th {\n",
       "        vertical-align: top;\n",
       "    }\n",
       "\n",
       "    .dataframe thead th {\n",
       "        text-align: right;\n",
       "    }\n",
       "</style>\n",
       "<table border=\"1\" class=\"dataframe\">\n",
       "  <thead>\n",
       "    <tr style=\"text-align: right;\">\n",
       "      <th></th>\n",
       "      <th>ID_Trans</th>\n",
       "      <th>Data</th>\n",
       "      <th>ID_Loja</th>\n",
       "      <th>ID_Produto</th>\n",
       "      <th>ID_Cliente</th>\n",
       "      <th>UnidadesVendidas</th>\n",
       "      <th>ValorTotal</th>\n",
       "      <th>Promo</th>\n",
       "      <th>Descrição Produto</th>\n",
       "      <th>Categoria</th>\n",
       "      <th>Cor</th>\n",
       "      <th>Marca</th>\n",
       "      <th>UF</th>\n",
       "      <th>Regiao</th>\n",
       "      <th>Genero</th>\n",
       "      <th>FaixaIdade</th>\n",
       "      <th>ClasseSocial</th>\n",
       "    </tr>\n",
       "  </thead>\n",
       "  <tbody>\n",
       "    <tr>\n",
       "      <th>0</th>\n",
       "      <td>1</td>\n",
       "      <td>2022-01-01</td>\n",
       "      <td>7</td>\n",
       "      <td>123005</td>\n",
       "      <td>90023</td>\n",
       "      <td>2</td>\n",
       "      <td>99.98</td>\n",
       "      <td>0.0</td>\n",
       "      <td>Top Cinza Marca AlfaX</td>\n",
       "      <td>Top</td>\n",
       "      <td>Cinza</td>\n",
       "      <td>AlfaX</td>\n",
       "      <td>RS</td>\n",
       "      <td>SUL</td>\n",
       "      <td>Masculino</td>\n",
       "      <td>35-45</td>\n",
       "      <td>C</td>\n",
       "    </tr>\n",
       "    <tr>\n",
       "      <th>1</th>\n",
       "      <td>2</td>\n",
       "      <td>2022-01-01</td>\n",
       "      <td>9</td>\n",
       "      <td>123004</td>\n",
       "      <td>90092</td>\n",
       "      <td>1</td>\n",
       "      <td>35.99</td>\n",
       "      <td>0.0</td>\n",
       "      <td>Top Cinza Marca BetaY</td>\n",
       "      <td>Top</td>\n",
       "      <td>Cinza</td>\n",
       "      <td>BetaY</td>\n",
       "      <td>BH</td>\n",
       "      <td>NORDESTE</td>\n",
       "      <td>Masculino</td>\n",
       "      <td>35-45</td>\n",
       "      <td>C</td>\n",
       "    </tr>\n",
       "    <tr>\n",
       "      <th>2</th>\n",
       "      <td>3</td>\n",
       "      <td>2022-01-01</td>\n",
       "      <td>1</td>\n",
       "      <td>123001</td>\n",
       "      <td>90027</td>\n",
       "      <td>2</td>\n",
       "      <td>51.98</td>\n",
       "      <td>0.0</td>\n",
       "      <td>Top Cinza Marca GammaZ</td>\n",
       "      <td>Top</td>\n",
       "      <td>Cinza</td>\n",
       "      <td>GammaZ</td>\n",
       "      <td>AM</td>\n",
       "      <td>NORTE</td>\n",
       "      <td>Masculino</td>\n",
       "      <td>25-35</td>\n",
       "      <td>C</td>\n",
       "    </tr>\n",
       "    <tr>\n",
       "      <th>3</th>\n",
       "      <td>4</td>\n",
       "      <td>2022-01-01</td>\n",
       "      <td>3</td>\n",
       "      <td>123001</td>\n",
       "      <td>90097</td>\n",
       "      <td>2</td>\n",
       "      <td>51.98</td>\n",
       "      <td>0.0</td>\n",
       "      <td>Top Cinza Marca GammaZ</td>\n",
       "      <td>Top</td>\n",
       "      <td>Cinza</td>\n",
       "      <td>GammaZ</td>\n",
       "      <td>SP</td>\n",
       "      <td>SUDESTE</td>\n",
       "      <td>Masculino</td>\n",
       "      <td>45+</td>\n",
       "      <td>C</td>\n",
       "    </tr>\n",
       "    <tr>\n",
       "      <th>4</th>\n",
       "      <td>5</td>\n",
       "      <td>2022-01-01</td>\n",
       "      <td>4</td>\n",
       "      <td>123004</td>\n",
       "      <td>90089</td>\n",
       "      <td>2</td>\n",
       "      <td>71.98</td>\n",
       "      <td>0.0</td>\n",
       "      <td>Top Cinza Marca BetaY</td>\n",
       "      <td>Top</td>\n",
       "      <td>Cinza</td>\n",
       "      <td>BetaY</td>\n",
       "      <td>SP</td>\n",
       "      <td>NaN</td>\n",
       "      <td>Masculino</td>\n",
       "      <td>18-25</td>\n",
       "      <td>C</td>\n",
       "    </tr>\n",
       "  </tbody>\n",
       "</table>\n",
       "</div>"
      ],
      "text/plain": [
       "   ID_Trans       Data  ID_Loja  ID_Produto  ID_Cliente  UnidadesVendidas  \\\n",
       "0         1 2022-01-01        7      123005       90023                 2   \n",
       "1         2 2022-01-01        9      123004       90092                 1   \n",
       "2         3 2022-01-01        1      123001       90027                 2   \n",
       "3         4 2022-01-01        3      123001       90097                 2   \n",
       "4         5 2022-01-01        4      123004       90089                 2   \n",
       "\n",
       "   ValorTotal  Promo       Descrição Produto Categoria    Cor   Marca     UF  \\\n",
       "0       99.98    0.0   Top Cinza Marca AlfaX       Top  Cinza   AlfaX     RS   \n",
       "1       35.99    0.0   Top Cinza Marca BetaY       Top  Cinza   BetaY     BH   \n",
       "2       51.98    0.0  Top Cinza Marca GammaZ       Top  Cinza  GammaZ     AM   \n",
       "3       51.98    0.0  Top Cinza Marca GammaZ       Top  Cinza  GammaZ     SP   \n",
       "4       71.98    0.0   Top Cinza Marca BetaY       Top  Cinza   BetaY     SP   \n",
       "\n",
       "     Regiao     Genero FaixaIdade ClasseSocial  \n",
       "0       SUL  Masculino      35-45            C  \n",
       "1  NORDESTE  Masculino      35-45            C  \n",
       "2     NORTE  Masculino      25-35            C  \n",
       "3   SUDESTE  Masculino        45+            C  \n",
       "4       NaN  Masculino      18-25            C  "
      ]
     },
     "execution_count": 11,
     "metadata": {},
     "output_type": "execute_result"
    }
   ],
   "source": [
    "# Visualizando o dataset\n",
    "\n",
    "df.head()"
   ]
  },
  {
   "cell_type": "code",
   "execution_count": 12,
   "metadata": {},
   "outputs": [
    {
     "data": {
      "text/plain": [
       "(7791, 17)"
      ]
     },
     "execution_count": 12,
     "metadata": {},
     "output_type": "execute_result"
    }
   ],
   "source": [
    "# Verificando a dimensão dos dados\n",
    "\n",
    "df.shape"
   ]
  },
  {
   "cell_type": "code",
   "execution_count": 13,
   "metadata": {},
   "outputs": [
    {
     "name": "stdout",
     "output_type": "stream",
     "text": [
      "<class 'pandas.core.frame.DataFrame'>\n",
      "RangeIndex: 7791 entries, 0 to 7790\n",
      "Data columns (total 17 columns):\n",
      " #   Column             Non-Null Count  Dtype         \n",
      "---  ------             --------------  -----         \n",
      " 0   ID_Trans           7791 non-null   int64         \n",
      " 1   Data               7791 non-null   datetime64[ns]\n",
      " 2   ID_Loja            7791 non-null   int64         \n",
      " 3   ID_Produto         7791 non-null   int64         \n",
      " 4   ID_Cliente         7791 non-null   int64         \n",
      " 5   UnidadesVendidas   7791 non-null   int64         \n",
      " 6   ValorTotal         7791 non-null   float64       \n",
      " 7   Promo              7775 non-null   float64       \n",
      " 8   Descrição Produto  7791 non-null   object        \n",
      " 9   Categoria          7791 non-null   object        \n",
      " 10  Cor                7791 non-null   object        \n",
      " 11  Marca              7791 non-null   object        \n",
      " 12  UF                 7791 non-null   object        \n",
      " 13  Regiao             6492 non-null   object        \n",
      " 14  Genero             7791 non-null   object        \n",
      " 15  FaixaIdade         7791 non-null   object        \n",
      " 16  ClasseSocial       7791 non-null   object        \n",
      "dtypes: datetime64[ns](1), float64(2), int64(5), object(9)\n",
      "memory usage: 1.0+ MB\n"
     ]
    }
   ],
   "source": [
    "# Verificando os tipos dos dados\n",
    "\n",
    "df.info()"
   ]
  },
  {
   "cell_type": "code",
   "execution_count": 14,
   "metadata": {},
   "outputs": [
    {
     "data": {
      "text/plain": [
       "ID_Trans                0\n",
       "Data                    0\n",
       "ID_Loja                 0\n",
       "ID_Produto              0\n",
       "ID_Cliente              0\n",
       "UnidadesVendidas        0\n",
       "ValorTotal              0\n",
       "Promo                  16\n",
       "Descrição Produto       0\n",
       "Categoria               0\n",
       "Cor                     0\n",
       "Marca                   0\n",
       "UF                      0\n",
       "Regiao               1299\n",
       "Genero                  0\n",
       "FaixaIdade              0\n",
       "ClasseSocial            0\n",
       "dtype: int64"
      ]
     },
     "execution_count": 14,
     "metadata": {},
     "output_type": "execute_result"
    }
   ],
   "source": [
    "# Verificando a quantidade de valores ausentes\n",
    "\n",
    "df.isnull().sum()"
   ]
  },
  {
   "cell_type": "code",
   "execution_count": 15,
   "metadata": {},
   "outputs": [
    {
     "data": {
      "text/plain": [
       "ID_Trans              0.000000\n",
       "Data                  0.000000\n",
       "ID_Loja               0.000000\n",
       "ID_Produto            0.000000\n",
       "ID_Cliente            0.000000\n",
       "UnidadesVendidas      0.000000\n",
       "ValorTotal            0.000000\n",
       "Promo                 0.205365\n",
       "Descrição Produto     0.000000\n",
       "Categoria             0.000000\n",
       "Cor                   0.000000\n",
       "Marca                 0.000000\n",
       "UF                    0.000000\n",
       "Regiao               16.673084\n",
       "Genero                0.000000\n",
       "FaixaIdade            0.000000\n",
       "ClasseSocial          0.000000\n",
       "dtype: float64"
      ]
     },
     "execution_count": 15,
     "metadata": {},
     "output_type": "execute_result"
    }
   ],
   "source": [
    "# Percentual de valores ausentes\n",
    "\n",
    "(df.isnull().sum() * 100) / df.shape[0]"
   ]
  },
  {
   "cell_type": "code",
   "execution_count": 16,
   "metadata": {},
   "outputs": [],
   "source": [
    "# A coluna Região possui mais de 16% dos valores ausentes\n",
    "# Essa coluna será removida. No momento, não é possivel obter informações junto ao gestores para uma possível inputação desses dados.\n",
    "\n",
    "df.drop(['Regiao'], axis=1, inplace=True) "
   ]
  },
  {
   "cell_type": "code",
   "execution_count": 17,
   "metadata": {},
   "outputs": [
    {
     "data": {
      "text/plain": [
       "Genero\n",
       "Feminino      4929\n",
       "Masculino     2322\n",
       "Indefinido     540\n",
       "Name: count, dtype: int64"
      ]
     },
     "execution_count": 17,
     "metadata": {},
     "output_type": "execute_result"
    }
   ],
   "source": [
    "df[\"Genero\"].value_counts()"
   ]
  },
  {
   "cell_type": "code",
   "execution_count": 18,
   "metadata": {},
   "outputs": [],
   "source": [
    "# Exclui linhas com valores ausentes na coluna \"Promo\" ou em qualquer outra coluna do dataset\n",
    "\n",
    "df.dropna(inplace=True)"
   ]
  },
  {
   "cell_type": "code",
   "execution_count": 19,
   "metadata": {},
   "outputs": [
    {
     "data": {
      "text/plain": [
       "0"
      ]
     },
     "execution_count": 19,
     "metadata": {},
     "output_type": "execute_result"
    }
   ],
   "source": [
    "# Verifica se há valores duplicados no dataset\n",
    "\n",
    "df.duplicated().sum()"
   ]
  },
  {
   "cell_type": "code",
   "execution_count": 20,
   "metadata": {},
   "outputs": [
    {
     "data": {
      "text/plain": [
       "(7775, 16)"
      ]
     },
     "execution_count": 20,
     "metadata": {},
     "output_type": "execute_result"
    }
   ],
   "source": [
    "# Verificando a dimensão dos dados depois da limpeza\n",
    "\n",
    "df.shape"
   ]
  },
  {
   "cell_type": "code",
   "execution_count": 21,
   "metadata": {},
   "outputs": [
    {
     "data": {
      "text/plain": [
       "Index(['ID_Trans', 'Data', 'ID_Loja', 'ID_Produto', 'ID_Cliente',\n",
       "       'UnidadesVendidas', 'ValorTotal', 'Promo', 'Descrição Produto',\n",
       "       'Categoria', 'Cor', 'Marca', 'UF', 'Genero', 'FaixaIdade',\n",
       "       'ClasseSocial'],\n",
       "      dtype='object')"
      ]
     },
     "execution_count": 21,
     "metadata": {},
     "output_type": "execute_result"
    }
   ],
   "source": [
    "df.columns"
   ]
  },
  {
   "cell_type": "code",
   "execution_count": 22,
   "metadata": {},
   "outputs": [
    {
     "data": {
      "text/plain": [
       "UF\n",
       "RS       1689\n",
       "SP        925\n",
       " BH       902\n",
       "MG        876\n",
       "   SP     861\n",
       " SP       840\n",
       "SP        812\n",
       "BH        437\n",
       "AM        433\n",
       "Name: count, dtype: int64"
      ]
     },
     "execution_count": 22,
     "metadata": {},
     "output_type": "execute_result"
    }
   ],
   "source": [
    "df[\"UF\"].value_counts()"
   ]
  },
  {
   "cell_type": "code",
   "execution_count": 23,
   "metadata": {},
   "outputs": [],
   "source": [
    "# Removendo espaços em branco da coluna \"UF\"\n",
    "\n",
    "df[\"UF\"] = df[\"UF\"].str.strip()"
   ]
  },
  {
   "cell_type": "code",
   "execution_count": 24,
   "metadata": {},
   "outputs": [
    {
     "data": {
      "text/plain": [
       "UF\n",
       "SP    3438\n",
       "RS    1689\n",
       "BH    1339\n",
       "MG     876\n",
       "AM     433\n",
       "Name: count, dtype: int64"
      ]
     },
     "execution_count": 24,
     "metadata": {},
     "output_type": "execute_result"
    }
   ],
   "source": [
    "df[\"UF\"].value_counts()"
   ]
  },
  {
   "cell_type": "code",
   "execution_count": 25,
   "metadata": {},
   "outputs": [],
   "source": [
    "# Adicionando a coluna \"Ano\" no dataset\n",
    "\n",
    "df['Ano'] = df['Data'].dt.year"
   ]
  },
  {
   "cell_type": "code",
   "execution_count": 26,
   "metadata": {},
   "outputs": [
    {
     "data": {
      "text/html": [
       "<div>\n",
       "<style scoped>\n",
       "    .dataframe tbody tr th:only-of-type {\n",
       "        vertical-align: middle;\n",
       "    }\n",
       "\n",
       "    .dataframe tbody tr th {\n",
       "        vertical-align: top;\n",
       "    }\n",
       "\n",
       "    .dataframe thead th {\n",
       "        text-align: right;\n",
       "    }\n",
       "</style>\n",
       "<table border=\"1\" class=\"dataframe\">\n",
       "  <thead>\n",
       "    <tr style=\"text-align: right;\">\n",
       "      <th></th>\n",
       "      <th>count</th>\n",
       "      <th>mean</th>\n",
       "      <th>min</th>\n",
       "      <th>25%</th>\n",
       "      <th>50%</th>\n",
       "      <th>75%</th>\n",
       "      <th>max</th>\n",
       "      <th>std</th>\n",
       "    </tr>\n",
       "  </thead>\n",
       "  <tbody>\n",
       "    <tr>\n",
       "      <th>ID_Trans</th>\n",
       "      <td>7775.0</td>\n",
       "      <td>3896.989582</td>\n",
       "      <td>1.0</td>\n",
       "      <td>1945.5</td>\n",
       "      <td>3901.0</td>\n",
       "      <td>5845.5</td>\n",
       "      <td>7791.0</td>\n",
       "      <td>2249.881273</td>\n",
       "    </tr>\n",
       "    <tr>\n",
       "      <th>Data</th>\n",
       "      <td>7775</td>\n",
       "      <td>2022-11-19 11:49:43.254019584</td>\n",
       "      <td>2022-01-01 00:00:00</td>\n",
       "      <td>2022-05-08 00:00:00</td>\n",
       "      <td>2023-01-01 00:00:00</td>\n",
       "      <td>2023-06-02 00:00:00</td>\n",
       "      <td>2023-09-30 00:00:00</td>\n",
       "      <td>NaN</td>\n",
       "    </tr>\n",
       "    <tr>\n",
       "      <th>ID_Loja</th>\n",
       "      <td>7775.0</td>\n",
       "      <td>5.485788</td>\n",
       "      <td>1.0</td>\n",
       "      <td>3.0</td>\n",
       "      <td>5.0</td>\n",
       "      <td>8.0</td>\n",
       "      <td>10.0</td>\n",
       "      <td>2.65202</td>\n",
       "    </tr>\n",
       "    <tr>\n",
       "      <th>ID_Produto</th>\n",
       "      <td>7775.0</td>\n",
       "      <td>123005.204373</td>\n",
       "      <td>123000.0</td>\n",
       "      <td>123003.0</td>\n",
       "      <td>123005.0</td>\n",
       "      <td>123008.0</td>\n",
       "      <td>123011.0</td>\n",
       "      <td>2.871134</td>\n",
       "    </tr>\n",
       "    <tr>\n",
       "      <th>ID_Cliente</th>\n",
       "      <td>7775.0</td>\n",
       "      <td>90050.015563</td>\n",
       "      <td>90000.0</td>\n",
       "      <td>90025.0</td>\n",
       "      <td>90050.0</td>\n",
       "      <td>90076.0</td>\n",
       "      <td>90099.0</td>\n",
       "      <td>28.779135</td>\n",
       "    </tr>\n",
       "    <tr>\n",
       "      <th>UnidadesVendidas</th>\n",
       "      <td>7775.0</td>\n",
       "      <td>2.301479</td>\n",
       "      <td>1.0</td>\n",
       "      <td>2.0</td>\n",
       "      <td>2.0</td>\n",
       "      <td>3.0</td>\n",
       "      <td>4.0</td>\n",
       "      <td>0.891989</td>\n",
       "    </tr>\n",
       "    <tr>\n",
       "      <th>ValorTotal</th>\n",
       "      <td>7775.0</td>\n",
       "      <td>114.155185</td>\n",
       "      <td>16.99</td>\n",
       "      <td>55.99</td>\n",
       "      <td>89.99</td>\n",
       "      <td>161.973</td>\n",
       "      <td>367.96</td>\n",
       "      <td>72.632434</td>\n",
       "    </tr>\n",
       "    <tr>\n",
       "      <th>Promo</th>\n",
       "      <td>7775.0</td>\n",
       "      <td>0.074212</td>\n",
       "      <td>0.0</td>\n",
       "      <td>0.0</td>\n",
       "      <td>0.0</td>\n",
       "      <td>0.0</td>\n",
       "      <td>1.0</td>\n",
       "      <td>0.262133</td>\n",
       "    </tr>\n",
       "    <tr>\n",
       "      <th>Ano</th>\n",
       "      <td>7775.0</td>\n",
       "      <td>2022.503151</td>\n",
       "      <td>2022.0</td>\n",
       "      <td>2022.0</td>\n",
       "      <td>2023.0</td>\n",
       "      <td>2023.0</td>\n",
       "      <td>2023.0</td>\n",
       "      <td>0.500022</td>\n",
       "    </tr>\n",
       "  </tbody>\n",
       "</table>\n",
       "</div>"
      ],
      "text/plain": [
       "                   count                           mean                  min  \\\n",
       "ID_Trans          7775.0                    3896.989582                  1.0   \n",
       "Data                7775  2022-11-19 11:49:43.254019584  2022-01-01 00:00:00   \n",
       "ID_Loja           7775.0                       5.485788                  1.0   \n",
       "ID_Produto        7775.0                  123005.204373             123000.0   \n",
       "ID_Cliente        7775.0                   90050.015563              90000.0   \n",
       "UnidadesVendidas  7775.0                       2.301479                  1.0   \n",
       "ValorTotal        7775.0                     114.155185                16.99   \n",
       "Promo             7775.0                       0.074212                  0.0   \n",
       "Ano               7775.0                    2022.503151               2022.0   \n",
       "\n",
       "                                  25%                  50%  \\\n",
       "ID_Trans                       1945.5               3901.0   \n",
       "Data              2022-05-08 00:00:00  2023-01-01 00:00:00   \n",
       "ID_Loja                           3.0                  5.0   \n",
       "ID_Produto                   123003.0             123005.0   \n",
       "ID_Cliente                    90025.0              90050.0   \n",
       "UnidadesVendidas                  2.0                  2.0   \n",
       "ValorTotal                      55.99                89.99   \n",
       "Promo                             0.0                  0.0   \n",
       "Ano                            2022.0               2023.0   \n",
       "\n",
       "                                  75%                  max          std  \n",
       "ID_Trans                       5845.5               7791.0  2249.881273  \n",
       "Data              2023-06-02 00:00:00  2023-09-30 00:00:00          NaN  \n",
       "ID_Loja                           8.0                 10.0      2.65202  \n",
       "ID_Produto                   123008.0             123011.0     2.871134  \n",
       "ID_Cliente                    90076.0              90099.0    28.779135  \n",
       "UnidadesVendidas                  3.0                  4.0     0.891989  \n",
       "ValorTotal                    161.973               367.96    72.632434  \n",
       "Promo                             0.0                  1.0     0.262133  \n",
       "Ano                            2023.0               2023.0     0.500022  "
      ]
     },
     "execution_count": 26,
     "metadata": {},
     "output_type": "execute_result"
    }
   ],
   "source": [
    "# Verificando medidas estatísticas para os dados\n",
    "\n",
    "df.describe().T"
   ]
  },
  {
   "cell_type": "markdown",
   "metadata": {},
   "source": [
    "# **2. Trazer os principais KPIs que resumam o comportamento da base: gasto por cliente, itens comprados, frequência, etc. Você pode mostrá-los em gráficos e trazer as médias e distribuição dos valores. É importante que você escreva com suas próprias palavras uma conclusão sobre o que pode ser observado nos gráficos.**"
   ]
  },
  {
   "cell_type": "markdown",
   "metadata": {},
   "source": [
    "### **1 - Gasto por Cliente (Ticket Médio):**"
   ]
  },
  {
   "cell_type": "code",
   "execution_count": 27,
   "metadata": {},
   "outputs": [],
   "source": [
    "# Ticket Médio: \n",
    "    # É um indicador que revela o quanto uma empresa/loja fatura em cada venda\n",
    "    # É o valor médio das vendas de um período.\n",
    "    # É o valor médio gasto por cliente em um determinado período de tempo, ou seja, quanto os clientes gastam, em média, em cada compra na sua loja.\n",
    "    # Uma empresa que tem um ticket médio de 100 por venda, indica que a media de gasto de um cliente que entra pra comprar um produto na loja é de 100 reais\n",
    "\n",
    "# Portanto, podemos obter o ticket médio quando dividimos o valor total das vendas pelo número total de vendas.\n",
    "# Valor Total de Vendas em X Período/ Número Total de Vendas em X Período"
   ]
  },
  {
   "cell_type": "code",
   "execution_count": 28,
   "metadata": {},
   "outputs": [
    {
     "name": "stdout",
     "output_type": "stream",
     "text": [
      "Ticket Médio 2022: 108.84\n",
      "Ticket Médio 2023: 119.41\n",
      "Ticket Médio da Base: 114.16\n"
     ]
    }
   ],
   "source": [
    "print(f'Ticket Médio 2022: {round(df[(df[\"Ano\"] == 2022)][\"ValorTotal\"].sum() / df[(df[\"Ano\"] == 2022)][\"ID_Trans\"].count(),2)}')\n",
    "\n",
    "print(f'Ticket Médio 2023: {round(df[(df[\"Ano\"] == 2023)][\"ValorTotal\"].sum() / df[(df[\"Ano\"] == 2023)][\"ID_Trans\"].count(),2)}')\n",
    "\n",
    "print(f'Ticket Médio da Base: {round(df[\"ValorTotal\"].sum() / df[\"ID_Trans\"].count(),2)}')"
   ]
  },
  {
   "cell_type": "code",
   "execution_count": 29,
   "metadata": {},
   "outputs": [
    {
     "data": {
      "image/png": "[encoded data removed]",
      "text/plain": [
       "<Figure size 640x480 with 1 Axes>"
      ]
     },
     "metadata": {},
     "output_type": "display_data"
    }
   ],
   "source": [
    "# A média de gasto por cliente em 2022 foi de 108.838 e em 2023 de 119.405\n",
    "\n",
    "# O ticket médio em 2023 teve um aumento de 9.71% em relação ao ano de 2022, indicando que houve um aumento no consumo de produtos por parte dos clientes.\n",
    "\n",
    "ax = sns.barplot(df, x=\"Ano\", y=\"ValorTotal\", estimator=\"mean\", errorbar=None, color='#e7a17a')\n",
    "ax.bar_label(ax.containers[0], fontsize=10);\n",
    "ax.set_title(\"Média de Gasto por Cliente por Ano\" , size = 15);\n",
    "ax.set_ylabel(\"Valor Total\");\n",
    "media = round(df[\"ValorTotal\"].sum() / df[\"ID_Trans\"].count(),2)\n",
    "ax.axhline(y=media, color='r', linestyle='-', label='Média');\n"
   ]
  },
  {
   "cell_type": "markdown",
   "metadata": {},
   "source": [
    "**Distribuição de Gasto por Cliente:**"
   ]
  },
  {
   "cell_type": "code",
   "execution_count": 30,
   "metadata": {},
   "outputs": [
    {
     "data": {
      "image/png": "[encoded data removed]",
      "text/plain": [
       "<Figure size 640x480 with 1 Axes>"
      ]
     },
     "metadata": {},
     "output_type": "display_data"
    }
   ],
   "source": [
    "# Visualizando a distribuição de gastos por ano\n",
    "\n",
    "ax = sns.boxplot(df, x=\"Ano\", y=\"ValorTotal\", medianprops={\"color\": \"r\", \"linewidth\": 2}, whis=0.5);\n",
    "ax.set_ylabel(\"Valor Total\");"
   ]
  },
  {
   "cell_type": "code",
   "execution_count": 31,
   "metadata": {},
   "outputs": [
    {
     "data": {
      "text/plain": [
       "count    3863.000000\n",
       "mean      108.838280\n",
       "std        69.413379\n",
       "min        17.991000\n",
       "25%        55.980000\n",
       "50%        89.982000\n",
       "75%       149.970000\n",
       "max       367.960000\n",
       "Name: ValorTotal, dtype: float64"
      ]
     },
     "execution_count": 31,
     "metadata": {},
     "output_type": "execute_result"
    }
   ],
   "source": [
    "df[df[\"Ano\"] == 2022][\"ValorTotal\"].describe()"
   ]
  },
  {
   "cell_type": "code",
   "execution_count": 32,
   "metadata": {},
   "outputs": [
    {
     "data": {
      "text/plain": [
       "count    3912.000000\n",
       "mean      119.405493\n",
       "std        75.318315\n",
       "min        16.990000\n",
       "25%        59.990000\n",
       "50%        92.970000\n",
       "75%       164.970000\n",
       "max       359.960000\n",
       "Name: ValorTotal, dtype: float64"
      ]
     },
     "execution_count": 32,
     "metadata": {},
     "output_type": "execute_result"
    }
   ],
   "source": [
    "df[df[\"Ano\"] == 2023][\"ValorTotal\"].describe()[['count','mean','std','min','25%','50%','75%','max']]"
   ]
  },
  {
   "cell_type": "code",
   "execution_count": 33,
   "metadata": {},
   "outputs": [
    {
     "data": {
      "text/html": [
       "<div>\n",
       "<style scoped>\n",
       "    .dataframe tbody tr th:only-of-type {\n",
       "        vertical-align: middle;\n",
       "    }\n",
       "\n",
       "    .dataframe tbody tr th {\n",
       "        vertical-align: top;\n",
       "    }\n",
       "\n",
       "    .dataframe thead th {\n",
       "        text-align: right;\n",
       "    }\n",
       "</style>\n",
       "<table border=\"1\" class=\"dataframe\">\n",
       "  <thead>\n",
       "    <tr style=\"text-align: right;\">\n",
       "      <th></th>\n",
       "      <th>count</th>\n",
       "      <th>mean</th>\n",
       "      <th>std</th>\n",
       "      <th>min</th>\n",
       "      <th>25%</th>\n",
       "      <th>50%</th>\n",
       "      <th>75%</th>\n",
       "      <th>max</th>\n",
       "    </tr>\n",
       "    <tr>\n",
       "      <th>Ano</th>\n",
       "      <th></th>\n",
       "      <th></th>\n",
       "      <th></th>\n",
       "      <th></th>\n",
       "      <th></th>\n",
       "      <th></th>\n",
       "      <th></th>\n",
       "      <th></th>\n",
       "    </tr>\n",
       "  </thead>\n",
       "  <tbody>\n",
       "    <tr>\n",
       "      <th>2022</th>\n",
       "      <td>3863.0</td>\n",
       "      <td>108.838280</td>\n",
       "      <td>69.413379</td>\n",
       "      <td>17.991</td>\n",
       "      <td>55.98</td>\n",
       "      <td>89.982</td>\n",
       "      <td>149.97</td>\n",
       "      <td>367.96</td>\n",
       "    </tr>\n",
       "    <tr>\n",
       "      <th>2023</th>\n",
       "      <td>3912.0</td>\n",
       "      <td>119.405493</td>\n",
       "      <td>75.318315</td>\n",
       "      <td>16.990</td>\n",
       "      <td>59.99</td>\n",
       "      <td>92.970</td>\n",
       "      <td>164.97</td>\n",
       "      <td>359.96</td>\n",
       "    </tr>\n",
       "  </tbody>\n",
       "</table>\n",
       "</div>"
      ],
      "text/plain": [
       "       count        mean        std     min    25%     50%     75%     max\n",
       "Ano                                                                       \n",
       "2022  3863.0  108.838280  69.413379  17.991  55.98  89.982  149.97  367.96\n",
       "2023  3912.0  119.405493  75.318315  16.990  59.99  92.970  164.97  359.96"
      ]
     },
     "execution_count": 33,
     "metadata": {},
     "output_type": "execute_result"
    }
   ],
   "source": [
    "# Distribuição de Gasto por Cliente:\n",
    "\n",
    "# Em 2022\n",
    "# 25% dos clientes gastaram até R$ 55,98.\n",
    "# 50% dos clientes gastaram até R$ 89,982.\n",
    "# 75% dos clientes gastaram até R$ 149,97.\n",
    "\n",
    "# Em 2023\n",
    "# 25% dos clientes gastaram até R$ 59,99.\n",
    "# 50% dos clientes gastaram até R$ 92,97.\n",
    "# 75% dos clientes gastaram até R$ 164,97.\n",
    "\n",
    "# A maioria dos clientes gasta entre R$ 89 e R$165, com alguns outliers acima desse intervalo.\n",
    "\n",
    "df.groupby([\"Ano\"])[\"ValorTotal\"].describe()"
   ]
  },
  {
   "cell_type": "markdown",
   "metadata": {},
   "source": [
    "### **2 - Itens Comprados**"
   ]
  },
  {
   "cell_type": "code",
   "execution_count": 34,
   "metadata": {},
   "outputs": [
    {
     "name": "stdout",
     "output_type": "stream",
     "text": [
      "Itens Comprados 2022: 2.33\n",
      "Itens Comprados 2023: 2.27\n",
      "Itens Comprados Base: 2.3\n"
     ]
    }
   ],
   "source": [
    "# Itens Comprados\n",
    "    # É o número médio de itens comprados por venda/transação\n",
    "    # Número Total de Itens Vendidos / Número Total de Vendas\n",
    "\n",
    "print(f'Itens Comprados 2022: {round(df[(df[\"Ano\"] == 2022)][\"UnidadesVendidas\"].sum() / df[(df[\"Ano\"] == 2022)][\"ID_Trans\"].count(),2)}')\n",
    "\n",
    "print(f'Itens Comprados 2023: {round(df[(df[\"Ano\"] == 2023)][\"UnidadesVendidas\"].sum() / df[(df[\"Ano\"] == 2023)][\"ID_Trans\"].count(),2)}')\n",
    "\n",
    "print(f'Itens Comprados Base: {round(df[\"UnidadesVendidas\"].sum() / df[\"ID_Trans\"].count(),2)}')"
   ]
  },
  {
   "cell_type": "code",
   "execution_count": 35,
   "metadata": {},
   "outputs": [
    {
     "name": "stdout",
     "output_type": "stream",
     "text": [
      "Percentual Itens Comprados: -2.46%\n"
     ]
    }
   ],
   "source": [
    "# Percentual (%) = 100 * ((valorFinal - valorInicial) / valorInicial)\n",
    "\n",
    "inicial = df[(df[\"Ano\"] == 2022)][\"UnidadesVendidas\"].sum() / df[(df[\"Ano\"] == 2022)][\"ID_Trans\"].count()\n",
    "final = df[(df[\"Ano\"] == 2023)][\"UnidadesVendidas\"].sum() / df[(df[\"Ano\"] == 2023)][\"ID_Trans\"].count()\n",
    "\n",
    "percentual = 100 * ((final - inicial) / inicial)\n",
    "\n",
    "print(f\"Percentual Itens Comprados: {round(percentual, 2)}%\")"
   ]
  },
  {
   "cell_type": "code",
   "execution_count": 36,
   "metadata": {},
   "outputs": [
    {
     "data": {
      "image/png": "[encoded data removed]",
      "text/plain": [
       "<Figure size 640x480 with 1 Axes>"
      ]
     },
     "metadata": {},
     "output_type": "display_data"
    }
   ],
   "source": [
    "# A média de itens comprados por cliente em 2022 foi de 2.33 e em 2023 de 2.27\n",
    "\n",
    "# A média de itens comprados em 2023 teve uma queda de 2.46% quando comparado com o ano de 2022.\n",
    "\n",
    "ax = sns.barplot(df, x=\"Ano\", y=\"UnidadesVendidas\", estimator=\"mean\", errorbar=None, color='#94b053');\n",
    "media = round(df[\"UnidadesVendidas\"].sum() / df[\"ID_Trans\"].count(),2);\n",
    "ax.axhline(y=media, color='r', linestyle='-', label='Média');\n",
    "ax.bar_label(ax.containers[0], fontsize=10);\n",
    "ax.set_title(\"Média de Itens Comprados por Ano\" , size = 15);\n",
    "ax.set_ylabel(\"Unidades Vendidas\");\n",
    "plt.ylim(0, 2.8);"
   ]
  },
  {
   "cell_type": "code",
   "execution_count": 37,
   "metadata": {},
   "outputs": [
    {
     "data": {
      "text/html": [
       "<div>\n",
       "<style scoped>\n",
       "    .dataframe tbody tr th:only-of-type {\n",
       "        vertical-align: middle;\n",
       "    }\n",
       "\n",
       "    .dataframe tbody tr th {\n",
       "        vertical-align: top;\n",
       "    }\n",
       "\n",
       "    .dataframe thead th {\n",
       "        text-align: right;\n",
       "    }\n",
       "</style>\n",
       "<table border=\"1\" class=\"dataframe\">\n",
       "  <thead>\n",
       "    <tr style=\"text-align: right;\">\n",
       "      <th></th>\n",
       "      <th>count</th>\n",
       "      <th>mean</th>\n",
       "      <th>std</th>\n",
       "      <th>min</th>\n",
       "      <th>25%</th>\n",
       "      <th>50%</th>\n",
       "      <th>75%</th>\n",
       "      <th>max</th>\n",
       "    </tr>\n",
       "    <tr>\n",
       "      <th>Ano</th>\n",
       "      <th></th>\n",
       "      <th></th>\n",
       "      <th></th>\n",
       "      <th></th>\n",
       "      <th></th>\n",
       "      <th></th>\n",
       "      <th></th>\n",
       "      <th></th>\n",
       "    </tr>\n",
       "  </thead>\n",
       "  <tbody>\n",
       "    <tr>\n",
       "      <th>2022</th>\n",
       "      <td>3863.0</td>\n",
       "      <td>2.330313</td>\n",
       "      <td>0.866028</td>\n",
       "      <td>1.0</td>\n",
       "      <td>2.0</td>\n",
       "      <td>2.0</td>\n",
       "      <td>3.0</td>\n",
       "      <td>4.0</td>\n",
       "    </tr>\n",
       "    <tr>\n",
       "      <th>2023</th>\n",
       "      <td>3912.0</td>\n",
       "      <td>2.273006</td>\n",
       "      <td>0.916123</td>\n",
       "      <td>1.0</td>\n",
       "      <td>2.0</td>\n",
       "      <td>2.0</td>\n",
       "      <td>3.0</td>\n",
       "      <td>4.0</td>\n",
       "    </tr>\n",
       "  </tbody>\n",
       "</table>\n",
       "</div>"
      ],
      "text/plain": [
       "       count      mean       std  min  25%  50%  75%  max\n",
       "Ano                                                      \n",
       "2022  3863.0  2.330313  0.866028  1.0  2.0  2.0  3.0  4.0\n",
       "2023  3912.0  2.273006  0.916123  1.0  2.0  2.0  3.0  4.0"
      ]
     },
     "execution_count": 37,
     "metadata": {},
     "output_type": "execute_result"
    }
   ],
   "source": [
    "# Distribuição de Itens Comprados por Cliente:\n",
    "\n",
    "# Em 2022 e em 2023\n",
    "# 50% dos clientes compraram até 2 itens.\n",
    "# 75% dos clientes compraram até 3 itens.\n",
    "\n",
    "\n",
    "# A maioria dos clientes compra entre 2 e 3 itens, com alguns outliers acima desse intervalo.\n",
    "\n",
    "df.groupby([\"Ano\"])[\"UnidadesVendidas\"].describe()"
   ]
  },
  {
   "cell_type": "code",
   "execution_count": 38,
   "metadata": {},
   "outputs": [
    {
     "data": {
      "image/png": "[encoded data removed]",
      "text/plain": [
       "<Figure size 640x480 with 1 Axes>"
      ]
     },
     "metadata": {},
     "output_type": "display_data"
    }
   ],
   "source": [
    "ax = sns.boxplot(df, x=\"Ano\", y=\"UnidadesVendidas\", medianprops={\"color\": \"r\", \"linewidth\": 2}, whis=0.5);\n",
    "ax.set_ylabel(\"Unidades Vendidas\");\n"
   ]
  },
  {
   "cell_type": "markdown",
   "metadata": {},
   "source": [
    "### **3 - Frequência de Compras**"
   ]
  },
  {
   "cell_type": "code",
   "execution_count": 39,
   "metadata": {},
   "outputs": [],
   "source": [
    "# Frequência de Compras\n",
    "    # É o número médio de vezes que um cliente compra na empresa/loja dentro de um determinado período de tempo\n",
    "    # Número Total de Vendas em X Período / Número Total de Compradores Únicos em X Período\n"
   ]
  },
  {
   "cell_type": "code",
   "execution_count": 40,
   "metadata": {},
   "outputs": [
    {
     "name": "stdout",
     "output_type": "stream",
     "text": [
      "Frequência de Compra 2022: 38.63\n",
      "Frequência de Compra 2023: 39.12\n",
      "Frequência de Compra Base: 77.75\n"
     ]
    }
   ],
   "source": [
    "print(f'Frequência de Compra 2022: {round(df[(df[\"Ano\"] == 2022)][\"ID_Trans\"].count() / len(df[(df[\"Ano\"] == 2022)][\"ID_Cliente\"].unique()),2)}')\n",
    "print(f'Frequência de Compra 2023: {round(df[(df[\"Ano\"] == 2023)][\"ID_Trans\"].count() / len(df[(df[\"Ano\"] == 2023)][\"ID_Cliente\"].unique()),2)}')\n",
    "\n",
    "print(f'Frequência de Compra Base: {round(df[\"ID_Trans\"].count() / len(df[\"ID_Cliente\"].unique()),2)}')\n"
   ]
  },
  {
   "cell_type": "code",
   "execution_count": 41,
   "metadata": {},
   "outputs": [
    {
     "data": {
      "text/html": [
       "<div>\n",
       "<style scoped>\n",
       "    .dataframe tbody tr th:only-of-type {\n",
       "        vertical-align: middle;\n",
       "    }\n",
       "\n",
       "    .dataframe tbody tr th {\n",
       "        vertical-align: top;\n",
       "    }\n",
       "\n",
       "    .dataframe thead th {\n",
       "        text-align: right;\n",
       "    }\n",
       "</style>\n",
       "<table border=\"1\" class=\"dataframe\">\n",
       "  <thead>\n",
       "    <tr style=\"text-align: right;\">\n",
       "      <th></th>\n",
       "      <th>Ano</th>\n",
       "      <th>Frequência</th>\n",
       "    </tr>\n",
       "  </thead>\n",
       "  <tbody>\n",
       "    <tr>\n",
       "      <th>0</th>\n",
       "      <td>2022</td>\n",
       "      <td>38.63</td>\n",
       "    </tr>\n",
       "    <tr>\n",
       "      <th>1</th>\n",
       "      <td>2023</td>\n",
       "      <td>39.12</td>\n",
       "    </tr>\n",
       "  </tbody>\n",
       "</table>\n",
       "</div>"
      ],
      "text/plain": [
       "    Ano  Frequência\n",
       "0  2022       38.63\n",
       "1  2023       39.12"
      ]
     },
     "execution_count": 41,
     "metadata": {},
     "output_type": "execute_result"
    }
   ],
   "source": [
    "dados_frequencia = [[2022, round(df[(df[\"Ano\"] == 2022)][\"ID_Trans\"].count() / len(df[(df[\"Ano\"] == 2022)][\"ID_Cliente\"].unique()),2)],[2023, round(df[(df[\"Ano\"] == 2023)][\"ID_Trans\"].count() / len(df[(df[\"Ano\"] == 2023)][\"ID_Cliente\"].unique()),2)]]\n",
    "\n",
    "frequencia = pd.DataFrame(dados_frequencia, columns=['Ano', 'Frequência'])\n",
    "frequencia"
   ]
  },
  {
   "cell_type": "code",
   "execution_count": 42,
   "metadata": {},
   "outputs": [
    {
     "data": {
      "image/png": "[encoded data removed]",
      "text/plain": [
       "<Figure size 640x480 with 1 Axes>"
      ]
     },
     "metadata": {},
     "output_type": "display_data"
    }
   ],
   "source": [
    "# O número médio de vezes que um cliente comprou na loja em 2022 no período de Janeiro a Setembro foi de 38.63. \n",
    "# A frequência de compras dos clientes aumentou em 2023, passando para 39.12. Um aumento de 1.27% na frequência de compras.\n",
    "\n",
    "ax = sns.barplot(frequencia, x=\"Ano\", y=\"Frequência\", estimator=\"mean\", errorbar=None, color=\"#615566\");\n",
    "ax.bar_label(ax.containers[0], fontsize=10);\n",
    "ax.set_title(\"Média de Frequência de Compra\" , size = 15);\n"
   ]
  },
  {
   "cell_type": "code",
   "execution_count": 43,
   "metadata": {},
   "outputs": [
    {
     "name": "stdout",
     "output_type": "stream",
     "text": [
      "Percentual da Frequência: 1.27%\n"
     ]
    }
   ],
   "source": [
    "# Percentual (%) = 100 * ((valorFinal - valorInicial) / valorInicial)\n",
    "\n",
    "inicial = round(df[(df[\"Ano\"] == 2022)][\"ID_Trans\"].count() / len(df[(df[\"Ano\"] == 2022)][\"ID_Cliente\"].unique()),2)\n",
    "final = round(df[(df[\"Ano\"] == 2023)][\"ID_Trans\"].count() / len(df[(df[\"Ano\"] == 2023)][\"ID_Cliente\"].unique()),2)\n",
    "\n",
    "percentual = 100 * ((final - inicial) / inicial)\n",
    "\n",
    "print(f\"Percentual da Frequência: {round(percentual, 2)}%\")"
   ]
  },
  {
   "cell_type": "code",
   "execution_count": 44,
   "metadata": {},
   "outputs": [
    {
     "data": {
      "text/html": [
       "<div>\n",
       "<style scoped>\n",
       "    .dataframe tbody tr th:only-of-type {\n",
       "        vertical-align: middle;\n",
       "    }\n",
       "\n",
       "    .dataframe tbody tr th {\n",
       "        vertical-align: top;\n",
       "    }\n",
       "\n",
       "    .dataframe thead th {\n",
       "        text-align: right;\n",
       "    }\n",
       "</style>\n",
       "<table border=\"1\" class=\"dataframe\">\n",
       "  <thead>\n",
       "    <tr style=\"text-align: right;\">\n",
       "      <th></th>\n",
       "      <th>ID_Trans</th>\n",
       "    </tr>\n",
       "    <tr>\n",
       "      <th>ID_Cliente</th>\n",
       "      <th></th>\n",
       "    </tr>\n",
       "  </thead>\n",
       "  <tbody>\n",
       "    <tr>\n",
       "      <th>90000</th>\n",
       "      <td>39</td>\n",
       "    </tr>\n",
       "    <tr>\n",
       "      <th>90001</th>\n",
       "      <td>78</td>\n",
       "    </tr>\n",
       "    <tr>\n",
       "      <th>90002</th>\n",
       "      <td>68</td>\n",
       "    </tr>\n",
       "  </tbody>\n",
       "</table>\n",
       "</div>"
      ],
      "text/plain": [
       "            ID_Trans\n",
       "ID_Cliente          \n",
       "90000             39\n",
       "90001             78\n",
       "90002             68"
      ]
     },
     "execution_count": 44,
     "metadata": {},
     "output_type": "execute_result"
    }
   ],
   "source": [
    "cliente_agrup = df.groupby(['ID_Cliente'])[[\"ID_Trans\"]].count()\n",
    "cliente_agrup.head(3)\n"
   ]
  },
  {
   "cell_type": "markdown",
   "metadata": {},
   "source": [
    "### **4 - Faturamento**"
   ]
  },
  {
   "cell_type": "code",
   "execution_count": 45,
   "metadata": {},
   "outputs": [
    {
     "data": {
      "image/png": "[encoded data removed]",
      "text/plain": [
       "<Figure size 640x480 with 1 Axes>"
      ]
     },
     "metadata": {},
     "output_type": "display_data"
    }
   ],
   "source": [
    "# O faturamento na venda de produtos na loja foi maior para o ano de 2023.\n",
    "\n",
    "# O faturamento apresentou um aumento de 11.1% em 2023 quando comparado com o ano de 2022.\n",
    "\n",
    "ax = sns.barplot(df, x=\"Ano\", y=\"ValorTotal\", estimator=\"sum\", errorbar=None, color='#028f76')\n",
    "ax.bar_label(ax.containers[0], fontsize=10);\n",
    "ax.set_title(\"Faturamento por Ano\" , size = 15);\n",
    "ax.set_ylabel(\"Valor Total\");\n"
   ]
  },
  {
   "cell_type": "code",
   "execution_count": 46,
   "metadata": {},
   "outputs": [
    {
     "name": "stdout",
     "output_type": "stream",
     "text": [
      "Aumento Percentual Faturamento: 11.1%\n"
     ]
    }
   ],
   "source": [
    "# Aumento Percentual (%) = 100 * ((valorFinal - valorInicial) / valorInicial)\n",
    "\n",
    "inicial = df[(df[\"Ano\"] == 2022)][\"ValorTotal\"].sum()\n",
    "final = df[(df[\"Ano\"] == 2023)][\"ValorTotal\"].sum()\n",
    "\n",
    "percentual = 100 * ((final - inicial) / inicial)\n",
    "\n",
    "print(f\"Aumento Percentual Faturamento: {round(percentual, 2)}%\")\n"
   ]
  },
  {
   "cell_type": "markdown",
   "metadata": {},
   "source": [
    "### **5 - Carteira de Clientes**"
   ]
  },
  {
   "cell_type": "code",
   "execution_count": 47,
   "metadata": {},
   "outputs": [],
   "source": [
    "# Carteira de Clientes\n",
    "    # Agrupamento de todos os clientes da empresa em diferentes categorias. Por exemplo: idade, gênero."
   ]
  },
  {
   "cell_type": "code",
   "execution_count": 48,
   "metadata": {},
   "outputs": [
    {
     "data": {
      "image/png": "[encoded data removed]",
      "text/plain": [
       "<Figure size 800x400 with 2 Axes>"
      ]
     },
     "metadata": {},
     "output_type": "display_data"
    }
   ],
   "source": [
    "fig, ax = plt.subplots(1, 2, figsize=(8,4))\n",
    "\n",
    "sns.countplot(x=df_cliente_pl[\"FaixaIdade\"], ax=ax[0], stat=\"probability\", color=\"#b2b39f\")\n",
    "sns.countplot(x=df_cliente_pl[\"Genero\"], ax=ax[1], stat=\"percent\", color='#9c7a9d')\n",
    "#ax[0].bar_label(ax[0].containers[0], fontsize=9)\n",
    "#ax[1].bar_label(ax[1].containers[0], fontsize=9)\n",
    "ax[0].set_title(\"Clientes por Faixa Etária\" , size = 10 )\n",
    "ax[1].set_title(\"Clientes por Gênero\" , size = 10)\n",
    "ax[0].set_ylabel(\"Quantidade\")\n",
    "ax[1].set_ylabel(\"Quantidade\")\n",
    "ax[0].set_xlabel(\"Faixa Etária\")\n",
    "ax[1].set_xlabel(\"Gênero\")\n",
    "\n",
    "for p in ax[0].patches:\n",
    "   width = p.get_width()\n",
    "   height = p.get_height()\n",
    "   x ,y = p.get_xy()\n",
    "   ax[0].annotate('{:.0f}%'.format(height*100), (x + width/2, y + height*0.7), va='center', ha='center')\n",
    "\n",
    "for p in ax[1].patches:\n",
    "   width = p.get_width()\n",
    "   height = p.get_height()\n",
    "   x ,y = p.get_xy()\n",
    "   ax[1].annotate('{:.0f}%'.format(height), (x + width/2, y + height*0.7), va='center', ha='center')\n",
    "\n",
    "fig.tight_layout()"
   ]
  },
  {
   "cell_type": "code",
   "execution_count": 49,
   "metadata": {},
   "outputs": [],
   "source": [
    "# 50% dos clientes que compram na loja possuem entre 25 e 35 anos.\n",
    "# 70% dos clientes tem idade de 25 anos ou mais.\n",
    "\n",
    "# A maior parte das pessoas que compram na loja são do gênero Feminino com uma representatividade de 64% na base."
   ]
  },
  {
   "cell_type": "markdown",
   "metadata": {},
   "source": [
    "# **3. No ano 2023 as campanhas se focaram na venda do Top vermelho marca “Gamma Z”. Por favor avalie se estes produtos tiveram melhor desempenho**"
   ]
  },
  {
   "cell_type": "code",
   "execution_count": 50,
   "metadata": {},
   "outputs": [
    {
     "data": {
      "text/html": [
       "<div>\n",
       "<style scoped>\n",
       "    .dataframe tbody tr th:only-of-type {\n",
       "        vertical-align: middle;\n",
       "    }\n",
       "\n",
       "    .dataframe tbody tr th {\n",
       "        vertical-align: top;\n",
       "    }\n",
       "\n",
       "    .dataframe thead th {\n",
       "        text-align: right;\n",
       "    }\n",
       "</style>\n",
       "<table border=\"1\" class=\"dataframe\">\n",
       "  <thead>\n",
       "    <tr style=\"text-align: right;\">\n",
       "      <th></th>\n",
       "      <th>ID_Trans</th>\n",
       "      <th>Data</th>\n",
       "      <th>ID_Loja</th>\n",
       "      <th>ID_Produto</th>\n",
       "      <th>ID_Cliente</th>\n",
       "      <th>UnidadesVendidas</th>\n",
       "      <th>ValorTotal</th>\n",
       "      <th>Promo</th>\n",
       "      <th>Descrição Produto</th>\n",
       "      <th>Categoria</th>\n",
       "      <th>Cor</th>\n",
       "      <th>Marca</th>\n",
       "      <th>UF</th>\n",
       "      <th>Genero</th>\n",
       "      <th>FaixaIdade</th>\n",
       "      <th>ClasseSocial</th>\n",
       "      <th>Ano</th>\n",
       "    </tr>\n",
       "  </thead>\n",
       "  <tbody>\n",
       "    <tr>\n",
       "      <th>0</th>\n",
       "      <td>22</td>\n",
       "      <td>2022-01-04</td>\n",
       "      <td>2</td>\n",
       "      <td>123008</td>\n",
       "      <td>90096</td>\n",
       "      <td>3</td>\n",
       "      <td>269.97</td>\n",
       "      <td>0.0</td>\n",
       "      <td>Top Marca GammaZ</td>\n",
       "      <td>Top</td>\n",
       "      <td>Vermelho</td>\n",
       "      <td>GammaZ</td>\n",
       "      <td>MG</td>\n",
       "      <td>Masculino</td>\n",
       "      <td>18-25</td>\n",
       "      <td>A</td>\n",
       "      <td>2022</td>\n",
       "    </tr>\n",
       "    <tr>\n",
       "      <th>1</th>\n",
       "      <td>26</td>\n",
       "      <td>2022-01-04</td>\n",
       "      <td>7</td>\n",
       "      <td>123008</td>\n",
       "      <td>90055</td>\n",
       "      <td>4</td>\n",
       "      <td>359.96</td>\n",
       "      <td>0.0</td>\n",
       "      <td>Top Marca GammaZ</td>\n",
       "      <td>Top</td>\n",
       "      <td>Vermelho</td>\n",
       "      <td>GammaZ</td>\n",
       "      <td>RS</td>\n",
       "      <td>Masculino</td>\n",
       "      <td>25-35</td>\n",
       "      <td>D</td>\n",
       "      <td>2022</td>\n",
       "    </tr>\n",
       "    <tr>\n",
       "      <th>2</th>\n",
       "      <td>31</td>\n",
       "      <td>2022-01-04</td>\n",
       "      <td>3</td>\n",
       "      <td>123008</td>\n",
       "      <td>90075</td>\n",
       "      <td>3</td>\n",
       "      <td>269.97</td>\n",
       "      <td>0.0</td>\n",
       "      <td>Top Marca GammaZ</td>\n",
       "      <td>Top</td>\n",
       "      <td>Vermelho</td>\n",
       "      <td>GammaZ</td>\n",
       "      <td>SP</td>\n",
       "      <td>Masculino</td>\n",
       "      <td>25-35</td>\n",
       "      <td>B</td>\n",
       "      <td>2022</td>\n",
       "    </tr>\n",
       "    <tr>\n",
       "      <th>3</th>\n",
       "      <td>34</td>\n",
       "      <td>2022-01-04</td>\n",
       "      <td>2</td>\n",
       "      <td>123008</td>\n",
       "      <td>90094</td>\n",
       "      <td>3</td>\n",
       "      <td>269.97</td>\n",
       "      <td>0.0</td>\n",
       "      <td>Top Marca GammaZ</td>\n",
       "      <td>Top</td>\n",
       "      <td>Vermelho</td>\n",
       "      <td>GammaZ</td>\n",
       "      <td>MG</td>\n",
       "      <td>Masculino</td>\n",
       "      <td>25-35</td>\n",
       "      <td>C</td>\n",
       "      <td>2022</td>\n",
       "    </tr>\n",
       "    <tr>\n",
       "      <th>4</th>\n",
       "      <td>39</td>\n",
       "      <td>2022-01-04</td>\n",
       "      <td>4</td>\n",
       "      <td>123009</td>\n",
       "      <td>90048</td>\n",
       "      <td>4</td>\n",
       "      <td>367.96</td>\n",
       "      <td>0.0</td>\n",
       "      <td>Top Marca GammaZ</td>\n",
       "      <td>Top</td>\n",
       "      <td>Vermelho</td>\n",
       "      <td>GammaZ</td>\n",
       "      <td>SP</td>\n",
       "      <td>Feminino</td>\n",
       "      <td>35-45</td>\n",
       "      <td>C</td>\n",
       "      <td>2022</td>\n",
       "    </tr>\n",
       "  </tbody>\n",
       "</table>\n",
       "</div>"
      ],
      "text/plain": [
       "   ID_Trans       Data  ID_Loja  ID_Produto  ID_Cliente  UnidadesVendidas  \\\n",
       "0        22 2022-01-04        2      123008       90096                 3   \n",
       "1        26 2022-01-04        7      123008       90055                 4   \n",
       "2        31 2022-01-04        3      123008       90075                 3   \n",
       "3        34 2022-01-04        2      123008       90094                 3   \n",
       "4        39 2022-01-04        4      123009       90048                 4   \n",
       "\n",
       "   ValorTotal  Promo Descrição Produto Categoria       Cor   Marca  UF  \\\n",
       "0      269.97    0.0  Top Marca GammaZ       Top  Vermelho  GammaZ  MG   \n",
       "1      359.96    0.0  Top Marca GammaZ       Top  Vermelho  GammaZ  RS   \n",
       "2      269.97    0.0  Top Marca GammaZ       Top  Vermelho  GammaZ  SP   \n",
       "3      269.97    0.0  Top Marca GammaZ       Top  Vermelho  GammaZ  MG   \n",
       "4      367.96    0.0  Top Marca GammaZ       Top  Vermelho  GammaZ  SP   \n",
       "\n",
       "      Genero FaixaIdade ClasseSocial   Ano  \n",
       "0  Masculino      18-25            A  2022  \n",
       "1  Masculino      25-35            D  2022  \n",
       "2  Masculino      25-35            B  2022  \n",
       "3  Masculino      25-35            C  2022  \n",
       "4   Feminino      35-45            C  2022  "
      ]
     },
     "execution_count": 50,
     "metadata": {},
     "output_type": "execute_result"
    }
   ],
   "source": [
    "df_vendas = df[(df[\"Cor\"] == \"Vermelho\") & (df[\"Categoria\"] == \"Top\") & (df[\"Marca\"] == \"GammaZ\")]\n",
    "df_vendas.reset_index(drop=True, inplace=True)\n",
    "df_vendas.head()"
   ]
  },
  {
   "cell_type": "code",
   "execution_count": 51,
   "metadata": {},
   "outputs": [
    {
     "data": {
      "text/plain": [
       "Ano\n",
       "2023    773\n",
       "2022    640\n",
       "Name: count, dtype: int64"
      ]
     },
     "execution_count": 51,
     "metadata": {},
     "output_type": "execute_result"
    }
   ],
   "source": [
    "df_vendas[\"Ano\"].value_counts()"
   ]
  },
  {
   "cell_type": "code",
   "execution_count": 52,
   "metadata": {},
   "outputs": [
    {
     "data": {
      "text/plain": [
       "ID_Produto\n",
       "123008    822\n",
       "123009    591\n",
       "Name: count, dtype: int64"
      ]
     },
     "execution_count": 52,
     "metadata": {},
     "output_type": "execute_result"
    }
   ],
   "source": [
    "df_vendas[\"ID_Produto\"].value_counts()"
   ]
  },
  {
   "cell_type": "code",
   "execution_count": 53,
   "metadata": {},
   "outputs": [
    {
     "data": {
      "image/png": "[encoded data removed]",
      "text/plain": [
       "<Figure size 500x750 with 2 Axes>"
      ]
     },
     "metadata": {},
     "output_type": "display_data"
    }
   ],
   "source": [
    "fig, ax = plt.subplots(2, 1, figsize=(5,7.5))\n",
    "\n",
    "sns.barplot(df_vendas, x=\"Ano\", y=\"UnidadesVendidas\", hue=\"ID_Produto\", estimator=\"sum\", errorbar=None, ax=ax[0])\n",
    "sns.barplot(df_vendas, x=\"Ano\", y=\"ValorTotal\", hue=\"ID_Produto\", estimator=\"sum\", errorbar=None, ax=ax[1])\n",
    "sns.move_legend(ax[0], \"upper left\", bbox_to_anchor=(1, 1))\n",
    "sns.move_legend(ax[1], \"upper left\", bbox_to_anchor=(1, 1))\n",
    "ax[0].bar_label(ax[0].containers[0], fontsize=9)\n",
    "ax[0].bar_label(ax[0].containers[1], fontsize=9)\n",
    "ax[1].bar_label(ax[1].containers[0], fontsize=9)\n",
    "ax[1].bar_label(ax[1].containers[1], fontsize=9)\n",
    "ax[0].set_title(\"Quantidade de Unidades Vendidas por Ano\" , size = 10 )\n",
    "ax[1].set_title(\"Receita por Ano\" , size = 10 )\n",
    "ax[0].set_ylabel(\"Unidades Vendidas\")\n",
    "ax[1].set_ylabel(\"Valor Total\")\n",
    "#fig.suptitle('Desempenho de Produtos Vendidos: Top Vermelho Marca GammaZ', fontsize=15)\n",
    "fig.tight_layout()"
   ]
  },
  {
   "cell_type": "code",
   "execution_count": 54,
   "metadata": {},
   "outputs": [
    {
     "name": "stdout",
     "output_type": "stream",
     "text": [
      "Aumento Percentual Unidades Vendidas - Produto 123008: -6.67%\n",
      "Aumento Percentual Unidades Vendidas - Produto 123009: 66.93%\n"
     ]
    }
   ],
   "source": [
    "# Aumento Percentual Unidades Vendidas (%) = 100 * ((valorFinal - valorInicial) / valorInicial)\n",
    "\n",
    "inicial_p008 = df_vendas[(df_vendas[\"ID_Produto\"] == 123008) & (df_vendas[\"Ano\"] == 2022)][\"UnidadesVendidas\"].sum()\n",
    "final_p008 = df_vendas[(df_vendas[\"ID_Produto\"] == 123008) & (df_vendas[\"Ano\"] == 2023)][\"UnidadesVendidas\"].sum()\n",
    "\n",
    "inicial_p009 = df_vendas[(df_vendas[\"ID_Produto\"] == 123009) & (df_vendas[\"Ano\"] == 2022)][\"UnidadesVendidas\"].sum()\n",
    "final_p009 = df_vendas[(df_vendas[\"ID_Produto\"] == 123009) & (df_vendas[\"Ano\"] == 2023)][\"UnidadesVendidas\"].sum()\n",
    "\n",
    "percentual_p008 = 100 * ((final_p008 - inicial_p008) / inicial_p008)\n",
    "percentual_p009 = 100 * ((final_p009 - inicial_p009) / inicial_p009)\n",
    "\n",
    "print(f\"Aumento Percentual Unidades Vendidas - Produto 123008: {round(percentual_p008, 2)}%\")\n",
    "print(f\"Aumento Percentual Unidades Vendidas - Produto 123009: {round(percentual_p009, 2)}%\")"
   ]
  },
  {
   "cell_type": "code",
   "execution_count": 55,
   "metadata": {},
   "outputs": [
    {
     "name": "stdout",
     "output_type": "stream",
     "text": [
      "Aumento Percentual Receita - Produto 123008: -17.13%\n",
      "Aumento Percentual Receita - Produto 123009: 64.22%\n"
     ]
    }
   ],
   "source": [
    "# Aumento Percentual Receita (%) = 100 * ((valorFinal - valorInicial) / valorInicial)\n",
    "\n",
    "inicial_p008 = df_vendas[(df_vendas[\"ID_Produto\"] == 123008) & (df_vendas[\"Ano\"] == 2022)][\"ValorTotal\"].sum()\n",
    "final_p008 = df_vendas[(df_vendas[\"ID_Produto\"] == 123008) & (df_vendas[\"Ano\"] == 2023)][\"ValorTotal\"].sum()\n",
    "\n",
    "inicial_p009 = df_vendas[(df_vendas[\"ID_Produto\"] == 123009) & (df_vendas[\"Ano\"] == 2022)][\"ValorTotal\"].sum()\n",
    "final_p009 = df_vendas[(df_vendas[\"ID_Produto\"] == 123009) & (df_vendas[\"Ano\"] == 2023)][\"ValorTotal\"].sum()\n",
    "\n",
    "percentual_p008 = 100 * ((final_p008 - inicial_p008) / inicial_p008)\n",
    "percentual_p009 = 100 * ((final_p009 - inicial_p009) / inicial_p009)\n",
    "\n",
    "print(f\"Aumento Percentual Receita - Produto 123008: {round(percentual_p008, 2)}%\")\n",
    "print(f\"Aumento Percentual Receita - Produto 123009: {round(percentual_p009, 2)}%\")"
   ]
  },
  {
   "cell_type": "markdown",
   "metadata": {},
   "source": [
    "# **4. Os times de moda e marketing estão introduzindo um novo sistema de recomendação de produtos para os disparo de e-mail. Afim de verificar a eficiência desse novo modelo, foi feito um teste em que separaram os clientes em dois grupos:**\n",
    "\n",
    "**CONTROLE - Recebeu o e-mail com o sistema ANTIGO  de recomendação**\n",
    "\n",
    "**TESTE - Recebeu o e-mail com o sistema NOVO de recomendação**\n",
    "\n",
    "**Olhando para os resultados na aba Teste, responda para os times de moda e marketing se o sistema NOVO possui diferença significativa para o modelo ANTIGO**"
   ]
  },
  {
   "cell_type": "code",
   "execution_count": 56,
   "metadata": {},
   "outputs": [
    {
     "data": {
      "text/html": [
       "<div>\n",
       "<style scoped>\n",
       "    .dataframe tbody tr th:only-of-type {\n",
       "        vertical-align: middle;\n",
       "    }\n",
       "\n",
       "    .dataframe tbody tr th {\n",
       "        vertical-align: top;\n",
       "    }\n",
       "\n",
       "    .dataframe thead th {\n",
       "        text-align: right;\n",
       "    }\n",
       "</style>\n",
       "<table border=\"1\" class=\"dataframe\">\n",
       "  <thead>\n",
       "    <tr style=\"text-align: right;\">\n",
       "      <th></th>\n",
       "      <th>ID_Cliente</th>\n",
       "      <th>Grupo</th>\n",
       "      <th>Enviado</th>\n",
       "      <th>Recebido</th>\n",
       "      <th>Aberto</th>\n",
       "      <th>Sessao</th>\n",
       "      <th>Comprou</th>\n",
       "    </tr>\n",
       "  </thead>\n",
       "  <tbody>\n",
       "    <tr>\n",
       "      <th>0</th>\n",
       "      <td>90000</td>\n",
       "      <td>TESTE</td>\n",
       "      <td>1</td>\n",
       "      <td>1</td>\n",
       "      <td>1</td>\n",
       "      <td>1</td>\n",
       "      <td>1</td>\n",
       "    </tr>\n",
       "    <tr>\n",
       "      <th>1</th>\n",
       "      <td>90001</td>\n",
       "      <td>TESTE</td>\n",
       "      <td>1</td>\n",
       "      <td>1</td>\n",
       "      <td>0</td>\n",
       "      <td>0</td>\n",
       "      <td>0</td>\n",
       "    </tr>\n",
       "    <tr>\n",
       "      <th>2</th>\n",
       "      <td>90002</td>\n",
       "      <td>CONTROLE</td>\n",
       "      <td>1</td>\n",
       "      <td>1</td>\n",
       "      <td>0</td>\n",
       "      <td>0</td>\n",
       "      <td>0</td>\n",
       "    </tr>\n",
       "  </tbody>\n",
       "</table>\n",
       "</div>"
      ],
      "text/plain": [
       "   ID_Cliente     Grupo  Enviado  Recebido  Aberto  Sessao  Comprou\n",
       "0       90000     TESTE        1         1       1       1        1\n",
       "1       90001     TESTE        1         1       0       0        0\n",
       "2       90002  CONTROLE        1         1       0       0        0"
      ]
     },
     "execution_count": 56,
     "metadata": {},
     "output_type": "execute_result"
    }
   ],
   "source": [
    "df_teste_pl.head(3)"
   ]
  },
  {
   "cell_type": "code",
   "execution_count": 57,
   "metadata": {},
   "outputs": [
    {
     "data": {
      "text/plain": [
       "ID_Cliente    0\n",
       "Grupo         0\n",
       "Enviado       0\n",
       "Recebido      0\n",
       "Aberto        0\n",
       "Sessao        0\n",
       "Comprou       0\n",
       "dtype: int64"
      ]
     },
     "execution_count": 57,
     "metadata": {},
     "output_type": "execute_result"
    }
   ],
   "source": [
    "df_teste_pl.isnull().sum()"
   ]
  },
  {
   "cell_type": "code",
   "execution_count": 58,
   "metadata": {},
   "outputs": [
    {
     "data": {
      "text/plain": [
       "Grupo\n",
       "CONTROLE    54\n",
       "TESTE       46\n",
       "Name: count, dtype: int64"
      ]
     },
     "execution_count": 58,
     "metadata": {},
     "output_type": "execute_result"
    }
   ],
   "source": [
    "df_teste_pl[\"Grupo\"].value_counts()"
   ]
  },
  {
   "cell_type": "code",
   "execution_count": 59,
   "metadata": {},
   "outputs": [
    {
     "data": {
      "text/html": [
       "<div>\n",
       "<style scoped>\n",
       "    .dataframe tbody tr th:only-of-type {\n",
       "        vertical-align: middle;\n",
       "    }\n",
       "\n",
       "    .dataframe tbody tr th {\n",
       "        vertical-align: top;\n",
       "    }\n",
       "\n",
       "    .dataframe thead th {\n",
       "        text-align: right;\n",
       "    }\n",
       "</style>\n",
       "<table border=\"1\" class=\"dataframe\">\n",
       "  <thead>\n",
       "    <tr style=\"text-align: right;\">\n",
       "      <th></th>\n",
       "      <th>Enviado</th>\n",
       "      <th>Recebido</th>\n",
       "      <th>Aberto</th>\n",
       "      <th>Sessao</th>\n",
       "      <th>Comprou</th>\n",
       "    </tr>\n",
       "    <tr>\n",
       "      <th>Grupo</th>\n",
       "      <th></th>\n",
       "      <th></th>\n",
       "      <th></th>\n",
       "      <th></th>\n",
       "      <th></th>\n",
       "    </tr>\n",
       "  </thead>\n",
       "  <tbody>\n",
       "    <tr>\n",
       "      <th>CONTROLE</th>\n",
       "      <td>0.98</td>\n",
       "      <td>1.0</td>\n",
       "      <td>0.87</td>\n",
       "      <td>0.87</td>\n",
       "      <td>0.57</td>\n",
       "    </tr>\n",
       "    <tr>\n",
       "      <th>TESTE</th>\n",
       "      <td>0.98</td>\n",
       "      <td>1.0</td>\n",
       "      <td>0.91</td>\n",
       "      <td>0.91</td>\n",
       "      <td>0.74</td>\n",
       "    </tr>\n",
       "  </tbody>\n",
       "</table>\n",
       "</div>"
      ],
      "text/plain": [
       "          Enviado  Recebido  Aberto  Sessao  Comprou\n",
       "Grupo                                               \n",
       "CONTROLE     0.98       1.0    0.87    0.87     0.57\n",
       "TESTE        0.98       1.0    0.91    0.91     0.74"
      ]
     },
     "execution_count": 59,
     "metadata": {},
     "output_type": "execute_result"
    }
   ],
   "source": [
    "# Podemos calcular as taxas médias para cada métrica (Enviado, Recebido, Aberto, Sessão, Comprou) em ambos os grupos (TESTE e CONTROLE). \n",
    "\n",
    "# Essas médias podem oferecer uma visão inicial do desempenho dos dois sistemas.\n",
    "\n",
    "# A partir dessa tabela, podemos fazer algumas observações preliminares:\n",
    "\n",
    "# A taxa média de \"Abertura\" para o grupo TESTE é maior do que para o grupo CONTROLE.\n",
    "\n",
    "# As taxas médias de \"Sessão\" e \"Conversão\" também são mais altas no grupo TESTE em comparação com o grupo CONTROLE, indicando que o novo sistema pode estar contribuindo para mais compras.\n",
    "\n",
    "# No entanto, é importante notar que estas são apenas médias, e uma análise estatística mais aprofundada é necessária para determinar se essas diferenças são estatisticamente significativas.\n",
    "\n",
    "df_agrupado_medias = df_teste_pl.groupby(by=[\"Grupo\"])[[\"Enviado\", \"Recebido\", \"Aberto\", \"Sessao\", \"Comprou\"]].mean().round(2)\n",
    "df_agrupado_medias.head()"
   ]
  },
  {
   "cell_type": "code",
   "execution_count": 60,
   "metadata": {},
   "outputs": [
    {
     "name": "stdout",
     "output_type": "stream",
     "text": [
      "Teste t para 'Aberto':\n",
      "Estatística t: 0.67, Valor p: 0.5\n",
      "\n",
      "Teste t para 'Sessao':\n",
      "Estatística t: 0.67, Valor p: 0.5\n",
      "\n",
      "Teste t para 'Comprou':\n",
      "Estatística t: 1.73, Valor p: 0.09\n"
     ]
    }
   ],
   "source": [
    "# Vamos realizar um teste t de Student para comparar as médias das métricas \"Aberto\", \"Sessão\" e \"Comprou\" entre os grupos TESTE e CONTROLE. O teste t é apropriado para comparar as médias de duas amostras independentes.\n",
    "\n",
    "# Antes de realizar o teste, definimos as hipóteses:\n",
    "\n",
    "# Hipótese Nula (H0): Não há diferença significativa entre as médias dos grupos TESTE e CONTROLE para as métricas mencionadas.\n",
    "\n",
    "# Hipótese Alternativa (H1): Há diferença significativa entre as médias dos grupos TESTE e CONTROLE para as métricas mencionadas.\n",
    "\n",
    "# Nível de significância (alfa) é igual 0.05. Se o valor p <= alfa rejeitamos a hipótese nula e dizemos que os dados são estatisticamente significativos. Caso contrário, aceitamos a hipótese nula.\n",
    "\n",
    "# Agora, vamos calcular o valor p para cada métrica:\n",
    "\n",
    "\n",
    "\n",
    "# Teste t para \"Aberto\"\n",
    "t_stat_aberto, p_value_aberto = stats.ttest_ind(df_teste_pl.loc[(df_teste_pl[\"Grupo\"] == \"TESTE\"), [\"Aberto\"]], df_teste_pl.loc[(df_teste_pl[\"Grupo\"] == \"CONTROLE\"), [\"Aberto\"]])\n",
    "\n",
    "# Teste t para \"Sessao\"\n",
    "t_stat_sessao, p_value_sessao = stats.ttest_ind(df_teste_pl.loc[(df_teste_pl[\"Grupo\"] == \"TESTE\"), [\"Sessao\"]], df_teste_pl.loc[(df_teste_pl[\"Grupo\"] == \"CONTROLE\"), [\"Sessao\"]])\n",
    "\n",
    "# Teste t para \"Comprou\"\n",
    "t_stat_comprou, p_value_comprou = stats.ttest_ind(df_teste_pl.loc[(df_teste_pl[\"Grupo\"] == \"TESTE\"), [\"Comprou\"]], df_teste_pl.loc[(df_teste_pl[\"Grupo\"] == \"CONTROLE\"), [\"Comprou\"]])\n",
    "\n",
    "print(\"Teste t para 'Aberto':\")\n",
    "print(f\"Estatística t: {round(t_stat_aberto[0], 2)}, Valor p: {round(p_value_aberto[0],2)}\")\n",
    "\n",
    "print(\"\\nTeste t para 'Sessao':\")\n",
    "print(f\"Estatística t: {round(t_stat_sessao[0], 2)}, Valor p: {round(p_value_sessao[0], 2)}\")\n",
    "\n",
    "print(\"\\nTeste t para 'Comprou':\")\n",
    "print(f\"Estatística t: {round(t_stat_comprou[0], 2)}, Valor p: {round(p_value_comprou[0], 2)}\")\n",
    "\n",
    "\n",
    "# Conclusão Final: Como o p-valor é maior que 0.05 para as métricas analisadas, podemos aceitar a hipótese nula. Isto é, pode-se considerar o NOVO sistema não possui diferença significativa para o modelo ANTIGO."
   ]
  }
 ],
 "metadata": {
  "kernelspec": {
   "display_name": "Python 3",
   "language": "python",
   "name": "python3"
  },
  "language_info": {
   "codemirror_mode": {
    "name": "ipython",
    "version": 3
   },
   "file_extension": ".py",
   "mimetype": "text/x-python",
   "name": "python",
   "nbconvert_exporter": "python",
   "pygments_lexer": "ipython3",
   "version": "3.12.2"
  }
 },
 "nbformat": 4,
 "nbformat_minor": 2
}
